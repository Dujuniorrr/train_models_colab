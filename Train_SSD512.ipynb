{
  "nbformat": 4,
  "nbformat_minor": 0,
  "metadata": {
    "colab": {
      "provenance": [],
      "machine_shape": "hm",
      "gpuType": "A100",
      "authorship_tag": "ABX9TyMx5zMTL98y82qU8naDtShx",
      "include_colab_link": true
    },
    "kernelspec": {
      "name": "python3",
      "display_name": "Python 3"
    },
    "language_info": {
      "name": "python"
    },
    "accelerator": "GPU"
  },
  "cells": [
    {
      "cell_type": "markdown",
      "metadata": {
        "id": "view-in-github",
        "colab_type": "text"
      },
      "source": [
        "<a href=\"https://colab.research.google.com/github/Dujuniorrr/train_models_colab/blob/main/Train_SSD512.ipynb\" target=\"_parent\"><img src=\"https://colab.research.google.com/assets/colab-badge.svg\" alt=\"Open In Colab\"/></a>"
      ]
    },
    {
      "cell_type": "code",
      "execution_count": null,
      "metadata": {
        "id": "RQoEmG4ieIIb"
      },
      "outputs": [],
      "source": [
        "!mkdir dataset"
      ]
    },
    {
      "cell_type": "code",
      "source": [
        "!pip install torch==1.11.0+cu113 --extra-index-url https://download.pytorch.org/whl/cu113"
      ],
      "metadata": {
        "colab": {
          "base_uri": "https://localhost:8080/"
        },
        "id": "lRGiteKSjo0B",
        "outputId": "87cfa3eb-9239-41e6-f2c3-850adea51e66"
      },
      "execution_count": null,
      "outputs": [
        {
          "output_type": "stream",
          "name": "stdout",
          "text": [
            "Looking in indexes: https://pypi.org/simple, https://download.pytorch.org/whl/cu113\n",
            "Collecting torch==1.11.0+cu113\n",
            "  Using cached https://download.pytorch.org/whl/cu113/torch-1.11.0%2Bcu113-cp310-cp310-linux_x86_64.whl (1637.0 MB)\n",
            "Requirement already satisfied: typing-extensions in /usr/local/lib/python3.10/dist-packages (from torch==1.11.0+cu113) (4.7.1)\n",
            "Installing collected packages: torch\n",
            "  Attempting uninstall: torch\n",
            "    Found existing installation: torch 2.0.1\n",
            "    Uninstalling torch-2.0.1:\n",
            "      Successfully uninstalled torch-2.0.1\n",
            "\u001b[31mERROR: pip's dependency resolver does not currently take into account all the packages that are installed. This behaviour is the source of the following dependency conflicts.\n",
            "torchaudio 2.0.2+cu118 requires torch==2.0.1, but you have torch 1.11.0+cu113 which is incompatible.\n",
            "torchdata 0.6.1 requires torch==2.0.1, but you have torch 1.11.0+cu113 which is incompatible.\n",
            "torchtext 0.15.2 requires torch==2.0.1, but you have torch 1.11.0+cu113 which is incompatible.\n",
            "torchvision 0.15.2+cu118 requires torch==2.0.1, but you have torch 1.11.0+cu113 which is incompatible.\u001b[0m\u001b[31m\n",
            "\u001b[0mSuccessfully installed torch-1.11.0+cu113\n"
          ]
        }
      ]
    },
    {
      "cell_type": "code",
      "source": [
        "!git clone https://github.com/lufficc/SSD.git\n",
        "%cd SSD\n"
      ],
      "metadata": {
        "colab": {
          "base_uri": "https://localhost:8080/"
        },
        "id": "ewtHo1rBeZFq",
        "outputId": "14e4fef6-a6fe-4742-c70d-1c68caa90ec8"
      },
      "execution_count": null,
      "outputs": [
        {
          "output_type": "stream",
          "name": "stdout",
          "text": [
            "Cloning into 'SSD'...\n",
            "remote: Enumerating objects: 920, done.\u001b[K\n",
            "remote: Counting objects: 100% (245/245), done.\u001b[K\n",
            "remote: Compressing objects: 100% (58/58), done.\u001b[K\n",
            "remote: Total 920 (delta 198), reused 187 (delta 187), pack-reused 675\u001b[K\n",
            "Receiving objects: 100% (920/920), 796.47 KiB | 3.07 MiB/s, done.\n",
            "Resolving deltas: 100% (539/539), done.\n",
            "/content/SSD\n"
          ]
        }
      ]
    },
    {
      "cell_type": "code",
      "source": [
        "!pip install -r requirements.txt"
      ],
      "metadata": {
        "colab": {
          "base_uri": "https://localhost:8080/"
        },
        "id": "4IuHz5Enndlt",
        "outputId": "cd5f78c6-8ce6-41fd-eb60-2a99e5d408c5"
      },
      "execution_count": null,
      "outputs": [
        {
          "output_type": "stream",
          "name": "stdout",
          "text": [
            "Collecting yacs (from -r requirements.txt (line 1))\n",
            "  Downloading yacs-0.1.8-py3-none-any.whl (14 kB)\n",
            "Requirement already satisfied: tqdm in /usr/local/lib/python3.10/dist-packages (from -r requirements.txt (line 2)) (4.66.1)\n",
            "Requirement already satisfied: opencv-python in /usr/local/lib/python3.10/dist-packages (from -r requirements.txt (line 3)) (4.8.0.76)\n",
            "Collecting vizer (from -r requirements.txt (line 4))\n",
            "  Downloading Vizer-0.1.5.tar.gz (2.5 kB)\n",
            "  Preparing metadata (setup.py) ... \u001b[?25l\u001b[?25hdone\n",
            "Requirement already satisfied: PyYAML in /usr/local/lib/python3.10/dist-packages (from yacs->-r requirements.txt (line 1)) (6.0.1)\n",
            "Requirement already satisfied: numpy>=1.21.2 in /usr/local/lib/python3.10/dist-packages (from opencv-python->-r requirements.txt (line 3)) (1.23.5)\n",
            "Requirement already satisfied: Pillow in /usr/local/lib/python3.10/dist-packages (from vizer->-r requirements.txt (line 4)) (9.4.0)\n",
            "Building wheels for collected packages: vizer\n",
            "  Building wheel for vizer (setup.py) ... \u001b[?25l\u001b[?25hdone\n",
            "  Created wheel for vizer: filename=Vizer-0.1.5-py3-none-any.whl size=3480 sha256=3fc8345a1a09ed2619cf458dcf5855a9726848dd09f949d8d981010b663ce312\n",
            "  Stored in directory: /root/.cache/pip/wheels/59/b6/f6/0797508b9bbace6cd4ec40445b4966141675490196fcd3b372\n",
            "Successfully built vizer\n",
            "Installing collected packages: yacs, vizer\n",
            "Successfully installed vizer-0.1.5 yacs-0.1.8\n"
          ]
        }
      ]
    },
    {
      "cell_type": "code",
      "source": [
        "!pip install torchvision==0.12.0"
      ],
      "metadata": {
        "colab": {
          "base_uri": "https://localhost:8080/"
        },
        "id": "k-29Kncxnx_t",
        "outputId": "16b9cbdc-12bd-474f-f8df-3de405b22aca"
      },
      "execution_count": null,
      "outputs": [
        {
          "output_type": "stream",
          "name": "stdout",
          "text": [
            "Collecting torchvision==0.12.0\n",
            "  Downloading torchvision-0.12.0-cp310-cp310-manylinux1_x86_64.whl (21.0 MB)\n",
            "\u001b[2K     \u001b[90m━━━━━━━━━━━━━━━━━━━━━━━━━━━━━━━━━━━━━━━━\u001b[0m \u001b[32m21.0/21.0 MB\u001b[0m \u001b[31m78.9 MB/s\u001b[0m eta \u001b[36m0:00:00\u001b[0m\n",
            "\u001b[?25hRequirement already satisfied: typing-extensions in /usr/local/lib/python3.10/dist-packages (from torchvision==0.12.0) (4.7.1)\n",
            "Requirement already satisfied: numpy in /usr/local/lib/python3.10/dist-packages (from torchvision==0.12.0) (1.23.5)\n",
            "Requirement already satisfied: requests in /usr/local/lib/python3.10/dist-packages (from torchvision==0.12.0) (2.31.0)\n",
            "Requirement already satisfied: torch==1.11.0 in /usr/local/lib/python3.10/dist-packages (from torchvision==0.12.0) (1.11.0+cu113)\n",
            "Requirement already satisfied: pillow!=8.3.*,>=5.3.0 in /usr/local/lib/python3.10/dist-packages (from torchvision==0.12.0) (9.4.0)\n",
            "Requirement already satisfied: charset-normalizer<4,>=2 in /usr/local/lib/python3.10/dist-packages (from requests->torchvision==0.12.0) (3.2.0)\n",
            "Requirement already satisfied: idna<4,>=2.5 in /usr/local/lib/python3.10/dist-packages (from requests->torchvision==0.12.0) (3.4)\n",
            "Requirement already satisfied: urllib3<3,>=1.21.1 in /usr/local/lib/python3.10/dist-packages (from requests->torchvision==0.12.0) (2.0.4)\n",
            "Requirement already satisfied: certifi>=2017.4.17 in /usr/local/lib/python3.10/dist-packages (from requests->torchvision==0.12.0) (2023.7.22)\n",
            "Installing collected packages: torchvision\n",
            "  Attempting uninstall: torchvision\n",
            "    Found existing installation: torchvision 0.15.2+cu118\n",
            "    Uninstalling torchvision-0.15.2+cu118:\n",
            "      Successfully uninstalled torchvision-0.15.2+cu118\n",
            "Successfully installed torchvision-0.12.0\n"
          ]
        }
      ]
    },
    {
      "cell_type": "code",
      "source": [
        "%cd ../dataset/\n",
        "!git clone https://github.com/Dujuniorrr/VOC2012.git\n",
        "!export VOC_ROOT=\"/content/dataset/\"\n"
      ],
      "metadata": {
        "colab": {
          "base_uri": "https://localhost:8080/"
        },
        "id": "kpTeeshEef7I",
        "outputId": "ba1969be-64ee-4b39-d816-13281dd5fb98"
      },
      "execution_count": null,
      "outputs": [
        {
          "output_type": "stream",
          "name": "stdout",
          "text": [
            "/content/dataset\n",
            "Cloning into 'VOC2012'...\n",
            "remote: Enumerating objects: 2981, done.\u001b[K\n",
            "remote: Counting objects: 100% (1012/1012), done.\u001b[K\n",
            "remote: Compressing objects: 100% (268/268), done.\u001b[K\n",
            "remote: Total 2981 (delta 990), reused 760 (delta 742), pack-reused 1969\u001b[K\n",
            "Receiving objects: 100% (2981/2981), 651.80 MiB | 10.85 MiB/s, done.\n",
            "Resolving deltas: 100% (1972/1972), done.\n",
            "Updating files: 100% (2003/2003), done.\n"
          ]
        }
      ]
    },
    {
      "cell_type": "code",
      "source": [
        "%cd /content/SSD/datasets/\n",
        "!git clone https://github.com/Dujuniorrr/VOC2012.git"
      ],
      "metadata": {
        "colab": {
          "base_uri": "https://localhost:8080/"
        },
        "id": "zzf4KZW8hdMZ",
        "outputId": "dd493b64-8da1-490f-ce61-c948a389c4d0"
      },
      "execution_count": null,
      "outputs": [
        {
          "output_type": "stream",
          "name": "stdout",
          "text": [
            "/content/SSD/datasets\n",
            "Cloning into 'VOC2012'...\n",
            "remote: Enumerating objects: 2981, done.\u001b[K\n",
            "remote: Counting objects: 100% (1012/1012), done.\u001b[K\n",
            "remote: Compressing objects: 100% (268/268), done.\u001b[K\n",
            "remote: Total 2981 (delta 990), reused 760 (delta 742), pack-reused 1969\u001b[K\n",
            "Receiving objects: 100% (2981/2981), 651.80 MiB | 17.30 MiB/s, done.\n",
            "Resolving deltas: 100% (1972/1972), done.\n",
            "Updating files: 100% (2003/2003), done.\n"
          ]
        }
      ]
    },
    {
      "cell_type": "code",
      "source": [
        "!pip install torchvision"
      ],
      "metadata": {
        "colab": {
          "base_uri": "https://localhost:8080/"
        },
        "id": "QnEBbKS6e1Ji",
        "outputId": "41b94cd5-3ddc-47d7-f1f3-883899728d6a"
      },
      "execution_count": null,
      "outputs": [
        {
          "output_type": "stream",
          "name": "stdout",
          "text": [
            "Requirement already satisfied: torchvision in /usr/local/lib/python3.10/dist-packages (0.13.1)\n",
            "Requirement already satisfied: typing-extensions in /usr/local/lib/python3.10/dist-packages (from torchvision) (4.7.1)\n",
            "Requirement already satisfied: numpy in /usr/local/lib/python3.10/dist-packages (from torchvision) (1.23.5)\n",
            "Requirement already satisfied: requests in /usr/local/lib/python3.10/dist-packages (from torchvision) (2.31.0)\n",
            "Requirement already satisfied: torch==1.12.1 in /usr/local/lib/python3.10/dist-packages (from torchvision) (1.12.1)\n",
            "Requirement already satisfied: pillow!=8.3.*,>=5.3.0 in /usr/local/lib/python3.10/dist-packages (from torchvision) (9.4.0)\n",
            "Requirement already satisfied: charset-normalizer<4,>=2 in /usr/local/lib/python3.10/dist-packages (from requests->torchvision) (3.2.0)\n",
            "Requirement already satisfied: idna<4,>=2.5 in /usr/local/lib/python3.10/dist-packages (from requests->torchvision) (3.4)\n",
            "Requirement already satisfied: urllib3<3,>=1.21.1 in /usr/local/lib/python3.10/dist-packages (from requests->torchvision) (2.0.4)\n",
            "Requirement already satisfied: certifi>=2017.4.17 in /usr/local/lib/python3.10/dist-packages (from requests->torchvision) (2023.7.22)\n"
          ]
        }
      ]
    },
    {
      "cell_type": "code",
      "source": [
        "!export VOC_ROOT=\"/content/dataset/\""
      ],
      "metadata": {
        "id": "rc2-kjdnhGE7"
      },
      "execution_count": null,
      "outputs": []
    },
    {
      "cell_type": "code",
      "source": [
        "%cd /content/SSD\n",
        "!python train.py --config-file configs/vgg_ssd512_voc0712.yaml"
      ],
      "metadata": {
        "colab": {
          "base_uri": "https://localhost:8080/"
        },
        "id": "ppzPg0oTesCA",
        "outputId": "7ad7c4d2-f05f-43a1-8341-9c5bc2e125ab"
      },
      "execution_count": null,
      "outputs": [
        {
          "output_type": "stream",
          "name": "stdout",
          "text": [
            "/content/SSD\n",
            "2023-08-23 23:03:02,160 SSD INFO: Using 1 GPUs\n",
            "2023-08-23 23:03:02,160 SSD INFO: Namespace(config_file='configs/vgg_ssd512_voc0712.yaml', local_rank=0, log_step=10, save_step=2500, eval_step=2500, use_tensorboard=True, skip_test=False, opts=[], distributed=False, num_gpus=1)\n",
            "2023-08-23 23:03:02,160 SSD INFO: Loaded configuration file configs/vgg_ssd512_voc0712.yaml\n",
            "2023-08-23 23:03:02,160 SSD INFO: \n",
            "MODEL:\n",
            "  NUM_CLASSES: 1\n",
            "  BACKBONE:\n",
            "    OUT_CHANNELS: (512, 1024, 512, 256, 256, 256, 256)\n",
            "  PRIORS:\n",
            "    FEATURE_MAPS: [64, 32, 16, 8, 4, 2, 1]\n",
            "    STRIDES: [8, 16, 32, 64, 128, 256, 512]\n",
            "    MIN_SIZES: [35.84, 76.8, 153.6, 230.4, 307.2, 384.0, 460.8]\n",
            "    MAX_SIZES: [76.8, 153.6, 230.4, 307.2, 384.0, 460.8, 537.65]\n",
            "    ASPECT_RATIOS: [[2], [2, 3], [2, 3], [2, 3], [2, 3], [2], [2]]\n",
            "    BOXES_PER_LOCATION: [4, 6, 6, 6, 6, 4, 4]\n",
            "INPUT:\n",
            "  IMAGE_SIZE: 512\n",
            "DATASETS:\n",
            "  TRAIN: (\"voc_2012_trainval\", )\n",
            "  TEST: (\"voc_2012_test\", )\n",
            "SOLVER:\n",
            "  MAX_ITER: 120000\n",
            "  LR_STEPS: [80000, 100000]\n",
            "  GAMMA: 0.1\n",
            "  BATCH_SIZE: 40\n",
            "  LR: 1e-3\n",
            "\n",
            "OUTPUT_DIR: 'outputs/vgg_ssd512_voc0712'\n",
            "2023-08-23 23:03:02,161 SSD INFO: Running with config:\n",
            "DATASETS:\n",
            "  TEST: ('voc_2012_test',)\n",
            "  TRAIN: ('voc_2012_trainval',)\n",
            "DATA_LOADER:\n",
            "  NUM_WORKERS: 8\n",
            "  PIN_MEMORY: True\n",
            "INPUT:\n",
            "  IMAGE_SIZE: 512\n",
            "  PIXEL_MEAN: [123, 117, 104]\n",
            "MODEL:\n",
            "  BACKBONE:\n",
            "    NAME: vgg\n",
            "    OUT_CHANNELS: (512, 1024, 512, 256, 256, 256, 256)\n",
            "    PRETRAINED: True\n",
            "  BOX_HEAD:\n",
            "    NAME: SSDBoxHead\n",
            "    PREDICTOR: SSDBoxPredictor\n",
            "  CENTER_VARIANCE: 0.1\n",
            "  DEVICE: cuda\n",
            "  META_ARCHITECTURE: SSDDetector\n",
            "  NEG_POS_RATIO: 3\n",
            "  NUM_CLASSES: 1\n",
            "  PRIORS:\n",
            "    ASPECT_RATIOS: [[2], [2, 3], [2, 3], [2, 3], [2, 3], [2], [2]]\n",
            "    BOXES_PER_LOCATION: [4, 6, 6, 6, 6, 4, 4]\n",
            "    CLIP: True\n",
            "    FEATURE_MAPS: [64, 32, 16, 8, 4, 2, 1]\n",
            "    MAX_SIZES: [76.8, 153.6, 230.4, 307.2, 384.0, 460.8, 537.65]\n",
            "    MIN_SIZES: [35.84, 76.8, 153.6, 230.4, 307.2, 384.0, 460.8]\n",
            "    STRIDES: [8, 16, 32, 64, 128, 256, 512]\n",
            "  SIZE_VARIANCE: 0.2\n",
            "  THRESHOLD: 0.5\n",
            "OUTPUT_DIR: outputs/vgg_ssd512_voc0712\n",
            "SOLVER:\n",
            "  BATCH_SIZE: 40\n",
            "  GAMMA: 0.1\n",
            "  LR: 0.001\n",
            "  LR_STEPS: [80000, 100000]\n",
            "  MAX_ITER: 120000\n",
            "  MOMENTUM: 0.9\n",
            "  WARMUP_FACTOR: 0.3333333333333333\n",
            "  WARMUP_ITERS: 500\n",
            "  WEIGHT_DECAY: 0.0005\n",
            "TEST:\n",
            "  BATCH_SIZE: 10\n",
            "  CONFIDENCE_THRESHOLD: 0.01\n",
            "  MAX_PER_CLASS: -1\n",
            "  MAX_PER_IMAGE: 100\n",
            "  NMS_THRESHOLD: 0.45\n",
            "2023-08-23 23:03:07,156 SSD.trainer INFO: No checkpoint found.\n",
            "2023-08-23 23:03:07,202 SSD.trainer INFO: Start training ...\n",
            "malloc(): invalid next->prev_inuse (unsorted)\n"
          ]
        }
      ]
    }
  ]
}