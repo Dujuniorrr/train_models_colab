{
  "nbformat": 4,
  "nbformat_minor": 0,
  "metadata": {
    "colab": {
      "provenance": [],
      "include_colab_link": true
    },
    "kernelspec": {
      "name": "python3",
      "display_name": "Python 3"
    },
    "language_info": {
      "name": "python"
    }
  },
  "cells": [
    {
      "cell_type": "markdown",
      "metadata": {
        "id": "view-in-github",
        "colab_type": "text"
      },
      "source": [
        "<a href=\"https://colab.research.google.com/github/Dujuniorrr/train_models_colab/blob/main/Train_SSD512.ipynb\" target=\"_parent\"><img src=\"https://colab.research.google.com/assets/colab-badge.svg\" alt=\"Open In Colab\"/></a>"
      ]
    },
    {
      "cell_type": "code",
      "execution_count": null,
      "metadata": {
        "colab": {
          "base_uri": "https://localhost:8080/"
        },
        "id": "Si1nK5v3-Sy2",
        "outputId": "e68f14f1-e669-413d-cdba-8da6f27b9d99"
      },
      "outputs": [
        {
          "output_type": "stream",
          "name": "stdout",
          "text": [
            "Cloning into 'SSD'...\n",
            "remote: Enumerating objects: 920, done.\u001b[K\n",
            "remote: Counting objects: 100% (245/245), done.\u001b[K\n",
            "remote: Compressing objects: 100% (58/58), done.\u001b[K\n",
            "remote: Total 920 (delta 198), reused 187 (delta 187), pack-reused 675\u001b[K\n",
            "Receiving objects: 100% (920/920), 796.47 KiB | 3.04 MiB/s, done.\n",
            "Resolving deltas: 100% (539/539), done.\n"
          ]
        }
      ],
      "source": [
        "!git clone https://github.com/lufficc/SSD.git"
      ]
    },
    {
      "cell_type": "code",
      "source": [
        "%cd /content/SSD/\n",
        "# Required packages: torch torchvision yacs tqdm opencv-python vizer\n",
        "!pip install -r requirements.txt\n"
      ],
      "metadata": {
        "colab": {
          "base_uri": "https://localhost:8080/"
        },
        "id": "KvV5qSxz-mXu",
        "outputId": "df8e8f46-b05f-44d3-ac11-e81e89824812"
      },
      "execution_count": null,
      "outputs": [
        {
          "output_type": "stream",
          "name": "stdout",
          "text": [
            "/content/SSD\n",
            "Requirement already satisfied: torch>=1.3 in /usr/local/lib/python3.10/dist-packages (from -r requirements.txt (line 1)) (2.0.1+cu118)\n",
            "Requirement already satisfied: torchvision>=0.3 in /usr/local/lib/python3.10/dist-packages (from -r requirements.txt (line 2)) (0.15.2+cu118)\n",
            "Collecting yacs (from -r requirements.txt (line 3))\n",
            "  Downloading yacs-0.1.8-py3-none-any.whl (14 kB)\n",
            "Requirement already satisfied: tqdm in /usr/local/lib/python3.10/dist-packages (from -r requirements.txt (line 4)) (4.66.1)\n",
            "Requirement already satisfied: opencv-python in /usr/local/lib/python3.10/dist-packages (from -r requirements.txt (line 5)) (4.8.0.76)\n",
            "Collecting vizer (from -r requirements.txt (line 6))\n",
            "  Downloading Vizer-0.1.5.tar.gz (2.5 kB)\n",
            "  Preparing metadata (setup.py) ... \u001b[?25l\u001b[?25hdone\n",
            "Requirement already satisfied: filelock in /usr/local/lib/python3.10/dist-packages (from torch>=1.3->-r requirements.txt (line 1)) (3.12.2)\n",
            "Requirement already satisfied: typing-extensions in /usr/local/lib/python3.10/dist-packages (from torch>=1.3->-r requirements.txt (line 1)) (4.7.1)\n",
            "Requirement already satisfied: sympy in /usr/local/lib/python3.10/dist-packages (from torch>=1.3->-r requirements.txt (line 1)) (1.12)\n",
            "Requirement already satisfied: networkx in /usr/local/lib/python3.10/dist-packages (from torch>=1.3->-r requirements.txt (line 1)) (3.1)\n",
            "Requirement already satisfied: jinja2 in /usr/local/lib/python3.10/dist-packages (from torch>=1.3->-r requirements.txt (line 1)) (3.1.2)\n",
            "Requirement already satisfied: triton==2.0.0 in /usr/local/lib/python3.10/dist-packages (from torch>=1.3->-r requirements.txt (line 1)) (2.0.0)\n",
            "Requirement already satisfied: cmake in /usr/local/lib/python3.10/dist-packages (from triton==2.0.0->torch>=1.3->-r requirements.txt (line 1)) (3.27.2)\n",
            "Requirement already satisfied: lit in /usr/local/lib/python3.10/dist-packages (from triton==2.0.0->torch>=1.3->-r requirements.txt (line 1)) (16.0.6)\n",
            "Requirement already satisfied: numpy in /usr/local/lib/python3.10/dist-packages (from torchvision>=0.3->-r requirements.txt (line 2)) (1.23.5)\n",
            "Requirement already satisfied: requests in /usr/local/lib/python3.10/dist-packages (from torchvision>=0.3->-r requirements.txt (line 2)) (2.31.0)\n",
            "Requirement already satisfied: pillow!=8.3.*,>=5.3.0 in /usr/local/lib/python3.10/dist-packages (from torchvision>=0.3->-r requirements.txt (line 2)) (9.4.0)\n",
            "Requirement already satisfied: PyYAML in /usr/local/lib/python3.10/dist-packages (from yacs->-r requirements.txt (line 3)) (6.0.1)\n",
            "Requirement already satisfied: MarkupSafe>=2.0 in /usr/local/lib/python3.10/dist-packages (from jinja2->torch>=1.3->-r requirements.txt (line 1)) (2.1.3)\n",
            "Requirement already satisfied: charset-normalizer<4,>=2 in /usr/local/lib/python3.10/dist-packages (from requests->torchvision>=0.3->-r requirements.txt (line 2)) (3.2.0)\n",
            "Requirement already satisfied: idna<4,>=2.5 in /usr/local/lib/python3.10/dist-packages (from requests->torchvision>=0.3->-r requirements.txt (line 2)) (3.4)\n",
            "Requirement already satisfied: urllib3<3,>=1.21.1 in /usr/local/lib/python3.10/dist-packages (from requests->torchvision>=0.3->-r requirements.txt (line 2)) (2.0.4)\n",
            "Requirement already satisfied: certifi>=2017.4.17 in /usr/local/lib/python3.10/dist-packages (from requests->torchvision>=0.3->-r requirements.txt (line 2)) (2023.7.22)\n",
            "Requirement already satisfied: mpmath>=0.19 in /usr/local/lib/python3.10/dist-packages (from sympy->torch>=1.3->-r requirements.txt (line 1)) (1.3.0)\n",
            "Building wheels for collected packages: vizer\n",
            "  Building wheel for vizer (setup.py) ... \u001b[?25l\u001b[?25hdone\n",
            "  Created wheel for vizer: filename=Vizer-0.1.5-py3-none-any.whl size=3481 sha256=745eba96261cb5cf1900e00a59d43f7962265172e268a4dac81de7c3034f12f7\n",
            "  Stored in directory: /root/.cache/pip/wheels/59/b6/f6/0797508b9bbace6cd4ec40445b4966141675490196fcd3b372\n",
            "Successfully built vizer\n",
            "Installing collected packages: yacs, vizer\n",
            "Successfully installed vizer-0.1.5 yacs-0.1.8\n"
          ]
        }
      ]
    },
    {
      "cell_type": "code",
      "source": [
        "%cd /content/\n",
        "!mkdir dataset\n",
        "%cd /content/dataset/\n",
        "!git clone https://github.com/Dujuniorrr/VOC2012.git"
      ],
      "metadata": {
        "colab": {
          "base_uri": "https://localhost:8080/"
        },
        "id": "tFzlXo_u-6zy",
        "outputId": "3a7cc3c5-6e88-4bd6-a03c-77e3752714f5"
      },
      "execution_count": null,
      "outputs": [
        {
          "output_type": "stream",
          "name": "stdout",
          "text": [
            "/content\n",
            "mkdir: cannot create directory ‘dataset’: File exists\n",
            "/content/dataset\n",
            "Cloning into 'VOC2012'...\n",
            "remote: Enumerating objects: 2981, done.\u001b[K\n",
            "remote: Counting objects: 100% (1012/1012), done.\u001b[K\n",
            "remote: Compressing objects: 100% (268/268), done.\u001b[K\n",
            "remote: Total 2981 (delta 990), reused 760 (delta 742), pack-reused 1969\u001b[K\n",
            "Receiving objects: 100% (2981/2981), 651.80 MiB | 26.23 MiB/s, done.\n",
            "Resolving deltas: 100% (1972/1972), done.\n",
            "Updating files: 100% (2003/2003), done.\n"
          ]
        }
      ]
    },
    {
      "cell_type": "code",
      "source": [
        "python demo.py --config-file configs/vgg_ssd512_voc0712.yaml --images_dir demo --ckpt"
      ],
      "metadata": {
        "id": "1Wi2_tXNQ1rZ"
      },
      "execution_count": null,
      "outputs": []
    },
    {
      "cell_type": "code",
      "source": [
        "%cd /content/SSD/\n",
        "# for example, train SSD300:\n",
        "!python train.py --config-file configs/vgg_ssd512_voc0712.yaml"
      ],
      "metadata": {
        "colab": {
          "base_uri": "https://localhost:8080/"
        },
        "id": "1Waokgy9_KnC",
        "outputId": "b57ff307-e484-4595-8071-040a398f327a"
      },
      "execution_count": null,
      "outputs": [
        {
          "output_type": "stream",
          "name": "stdout",
          "text": [
            "/content/SSD\n",
            "2023-08-26 19:58:47,378 SSD INFO: Using 1 GPUs\n",
            "2023-08-26 19:58:47,378 SSD INFO: Namespace(config_file='configs/vgg_ssd512_voc0712.yaml', local_rank=0, log_step=10, save_step=2500, eval_step=2500, use_tensorboard=True, skip_test=False, opts=[], distributed=False, num_gpus=1)\n",
            "2023-08-26 19:58:47,378 SSD INFO: Loaded configuration file configs/vgg_ssd512_voc0712.yaml\n",
            "2023-08-26 19:58:47,378 SSD INFO: \n",
            "MODEL:\n",
            "  NUM_CLASSES: 22\n",
            "  BACKBONE:\n",
            "    OUT_CHANNELS: (512, 1024, 512, 256, 256, 256, 256)\n",
            "  PRIORS:\n",
            "    FEATURE_MAPS: [64, 32, 16, 8, 4, 2, 1]\n",
            "    STRIDES: [8, 16, 32, 64, 128, 256, 512]\n",
            "    MIN_SIZES: [35.84, 76.8, 153.6, 230.4, 307.2, 384.0, 460.8]\n",
            "    MAX_SIZES: [76.8, 153.6, 230.4, 307.2, 384.0, 460.8, 537.65]\n",
            "    ASPECT_RATIOS: [[2], [2, 3], [2, 3], [2, 3], [2, 3], [2], [2]]\n",
            "    BOXES_PER_LOCATION: [4, 6, 6, 6, 6, 4, 4]\n",
            "INPUT:\n",
            "  IMAGE_SIZE: 512\n",
            "DATASETS:\n",
            "  TRAIN: (\"voc_2007_trainval\", \"voc_2012_trainval\")\n",
            "  TEST: (\"voc_2007_test\", )\n",
            "SOLVER:\n",
            "  MAX_ITER: 1000\n",
            "  LR_STEPS: [80000, 100000]\n",
            "  GAMMA: 0.1\n",
            "  BATCH_SIZE: 15\n",
            "  LR: 1e-3\n",
            "\n",
            "OUTPUT_DIR: 'outputs/vgg_ssd512_voc0712'\n",
            "2023-08-26 19:58:47,379 SSD INFO: Running with config:\n",
            "DATASETS:\n",
            "  TEST: ('voc_2007_test',)\n",
            "  TRAIN: ('voc_2007_trainval', 'voc_2012_trainval')\n",
            "DATA_LOADER:\n",
            "  NUM_WORKERS: 8\n",
            "  PIN_MEMORY: True\n",
            "INPUT:\n",
            "  IMAGE_SIZE: 512\n",
            "  PIXEL_MEAN: [123, 117, 104]\n",
            "MODEL:\n",
            "  BACKBONE:\n",
            "    NAME: vgg\n",
            "    OUT_CHANNELS: (512, 1024, 512, 256, 256, 256, 256)\n",
            "    PRETRAINED: True\n",
            "  BOX_HEAD:\n",
            "    NAME: SSDBoxHead\n",
            "    PREDICTOR: SSDBoxPredictor\n",
            "  CENTER_VARIANCE: 0.1\n",
            "  DEVICE: cuda\n",
            "  META_ARCHITECTURE: SSDDetector\n",
            "  NEG_POS_RATIO: 3\n",
            "  NUM_CLASSES: 22\n",
            "  PRIORS:\n",
            "    ASPECT_RATIOS: [[2], [2, 3], [2, 3], [2, 3], [2, 3], [2], [2]]\n",
            "    BOXES_PER_LOCATION: [4, 6, 6, 6, 6, 4, 4]\n",
            "    CLIP: True\n",
            "    FEATURE_MAPS: [64, 32, 16, 8, 4, 2, 1]\n",
            "    MAX_SIZES: [76.8, 153.6, 230.4, 307.2, 384.0, 460.8, 537.65]\n",
            "    MIN_SIZES: [35.84, 76.8, 153.6, 230.4, 307.2, 384.0, 460.8]\n",
            "    STRIDES: [8, 16, 32, 64, 128, 256, 512]\n",
            "  SIZE_VARIANCE: 0.2\n",
            "  THRESHOLD: 0.5\n",
            "OUTPUT_DIR: outputs/vgg_ssd512_voc0712\n",
            "SOLVER:\n",
            "  BATCH_SIZE: 15\n",
            "  GAMMA: 0.1\n",
            "  LR: 0.001\n",
            "  LR_STEPS: [80000, 100000]\n",
            "  MAX_ITER: 1000\n",
            "  MOMENTUM: 0.9\n",
            "  WARMUP_FACTOR: 0.3333333333333333\n",
            "  WARMUP_ITERS: 500\n",
            "  WEIGHT_DECAY: 0.0005\n",
            "TEST:\n",
            "  BATCH_SIZE: 10\n",
            "  CONFIDENCE_THRESHOLD: 0.01\n",
            "  MAX_PER_CLASS: -1\n",
            "  MAX_PER_IMAGE: 100\n",
            "  NMS_THRESHOLD: 0.45\n",
            "2023-08-26 19:58:49,339 SSD.trainer INFO: No checkpoint found.\n",
            "2023-08-26 19:58:49,373 SSD.trainer INFO: Start training ...\n",
            "2023-08-26 19:58:49.764167: I tensorflow/core/platform/cpu_feature_guard.cc:182] This TensorFlow binary is optimized to use available CPU instructions in performance-critical operations.\n",
            "To enable the following instructions: AVX2 FMA, in other operations, rebuild TensorFlow with the appropriate compiler flags.\n",
            "2023-08-26 19:58:50.681195: W tensorflow/compiler/tf2tensorrt/utils/py_utils.cc:38] TF-TRT Warning: Could not find TensorRT\n",
            "2023-08-26 19:59:15,927 SSD.trainer INFO: iter: 000010, lr: 0.00035, total_loss: 20.317 (20.317), reg_loss: 2.846 (2.846), cls_loss: 17.471 (17.471), time: 2.377 (2.377), eta: 0:39:13\n",
            "2023-08-26 19:59:19,785 SSD.trainer INFO: iter: 000020, lr: 0.00036, total_loss: 14.737 (17.527), reg_loss: 2.668 (2.757), cls_loss: 12.068 (14.770), time: 0.386 (1.381), eta: 0:22:33\n",
            "2023-08-26 19:59:23,669 SSD.trainer INFO: iter: 000030, lr: 0.00037, total_loss: 13.936 (16.330), reg_loss: 2.626 (2.713), cls_loss: 11.311 (13.617), time: 0.388 (1.050), eta: 0:16:58\n",
            "2023-08-26 19:59:27,538 SSD.trainer INFO: iter: 000040, lr: 0.00039, total_loss: 13.407 (15.599), reg_loss: 2.693 (2.708), cls_loss: 10.713 (12.891), time: 0.387 (0.884), eta: 0:14:09\n",
            "2023-08-26 19:59:31,425 SSD.trainer INFO: iter: 000050, lr: 0.00040, total_loss: 12.804 (15.040), reg_loss: 2.630 (2.693), cls_loss: 10.174 (12.348), time: 0.389 (0.785), eta: 0:12:26\n",
            "2023-08-26 19:59:35,302 SSD.trainer INFO: iter: 000060, lr: 0.00041, total_loss: 11.752 (14.492), reg_loss: 2.633 (2.683), cls_loss: 9.119 (11.809), time: 0.388 (0.719), eta: 0:11:15\n",
            "2023-08-26 19:59:39,216 SSD.trainer INFO: iter: 000070, lr: 0.00043, total_loss: 9.456 (13.773), reg_loss: 2.565 (2.666), cls_loss: 6.892 (11.107), time: 0.391 (0.672), eta: 0:10:25\n",
            "2023-08-26 19:59:57,422 SSD.trainer INFO: iter: 000080, lr: 0.00044, total_loss: 7.883 (13.037), reg_loss: 2.567 (2.653), cls_loss: 5.316 (10.383), time: 1.821 (0.816), eta: 0:12:30\n",
            "2023-08-26 20:00:01,041 SSD.trainer INFO: iter: 000090, lr: 0.00045, total_loss: 8.795 (12.565), reg_loss: 2.542 (2.641), cls_loss: 6.253 (9.924), time: 0.362 (0.765), eta: 0:11:36\n",
            "2023-08-26 20:00:04,935 SSD.trainer INFO: iter: 000100, lr: 0.00047, total_loss: 8.875 (12.196), reg_loss: 2.491 (2.626), cls_loss: 6.385 (9.570), time: 0.389 (0.728), eta: 0:10:54\n",
            "2023-08-26 20:00:08,798 SSD.trainer INFO: iter: 000110, lr: 0.00048, total_loss: 7.860 (11.802), reg_loss: 2.465 (2.611), cls_loss: 5.395 (9.191), time: 0.386 (0.697), eta: 0:10:20\n",
            "2023-08-26 20:00:12,655 SSD.trainer INFO: iter: 000120, lr: 0.00049, total_loss: 6.840 (11.389), reg_loss: 2.418 (2.595), cls_loss: 4.422 (8.793), time: 0.386 (0.671), eta: 0:09:50\n",
            "2023-08-26 20:00:16,653 SSD.trainer INFO: iter: 000130, lr: 0.00051, total_loss: 6.206 (10.990), reg_loss: 2.357 (2.577), cls_loss: 3.848 (8.413), time: 0.400 (0.650), eta: 0:09:25\n",
            "2023-08-26 20:00:20,517 SSD.trainer INFO: iter: 000140, lr: 0.00052, total_loss: 5.847 (10.623), reg_loss: 2.316 (2.558), cls_loss: 3.531 (8.064), time: 0.386 (0.631), eta: 0:09:02\n",
            "2023-08-26 20:00:24,388 SSD.trainer INFO: iter: 000150, lr: 0.00053, total_loss: 5.434 (10.277), reg_loss: 2.218 (2.536), cls_loss: 3.216 (7.741), time: 0.387 (0.615), eta: 0:08:42\n",
            "2023-08-26 20:00:28,236 SSD.trainer INFO: iter: 000160, lr: 0.00055, total_loss: 5.019 (9.948), reg_loss: 2.128 (2.510), cls_loss: 2.891 (7.438), time: 0.385 (0.600), eta: 0:08:24\n",
            "2023-08-26 20:00:32,092 SSD.trainer INFO: iter: 000170, lr: 0.00056, total_loss: 4.914 (9.652), reg_loss: 2.134 (2.488), cls_loss: 2.779 (7.164), time: 0.386 (0.588), eta: 0:08:07\n",
            "2023-08-26 20:00:35,951 SSD.trainer INFO: iter: 000180, lr: 0.00057, total_loss: 4.851 (9.385), reg_loss: 2.053 (2.464), cls_loss: 2.799 (6.921), time: 0.386 (0.577), eta: 0:07:52\n",
            "2023-08-26 20:00:39,831 SSD.trainer INFO: iter: 000190, lr: 0.00059, total_loss: 4.584 (9.133), reg_loss: 1.990 (2.439), cls_loss: 2.594 (6.694), time: 0.388 (0.567), eta: 0:07:39\n",
            "2023-08-26 20:00:45,314 SSD.trainer INFO: iter: 000200, lr: 0.00060, total_loss: 4.594 (8.906), reg_loss: 2.056 (2.420), cls_loss: 2.538 (6.486), time: 0.548 (0.566), eta: 0:07:32\n",
            "2023-08-26 20:00:49,161 SSD.trainer INFO: iter: 000210, lr: 0.00061, total_loss: 4.348 (8.689), reg_loss: 1.859 (2.393), cls_loss: 2.489 (6.295), time: 0.385 (0.557), eta: 0:07:20\n",
            "2023-08-26 20:00:53,027 SSD.trainer INFO: iter: 000220, lr: 0.00063, total_loss: 4.029 (8.477), reg_loss: 1.728 (2.363), cls_loss: 2.301 (6.114), time: 0.387 (0.549), eta: 0:07:08\n",
            "2023-08-26 20:00:56,925 SSD.trainer INFO: iter: 000230, lr: 0.00064, total_loss: 3.993 (8.282), reg_loss: 1.677 (2.333), cls_loss: 2.315 (5.949), time: 0.390 (0.542), eta: 0:06:57\n",
            "2023-08-26 20:01:00,816 SSD.trainer INFO: iter: 000240, lr: 0.00065, total_loss: 4.065 (8.106), reg_loss: 1.708 (2.307), cls_loss: 2.357 (5.799), time: 0.389 (0.536), eta: 0:06:47\n",
            "2023-08-26 20:01:04,688 SSD.trainer INFO: iter: 000250, lr: 0.00067, total_loss: 3.799 (7.934), reg_loss: 1.518 (2.275), cls_loss: 2.281 (5.658), time: 0.387 (0.530), eta: 0:06:37\n",
            "2023-08-26 20:01:08,665 SSD.trainer INFO: iter: 000260, lr: 0.00068, total_loss: 4.158 (7.789), reg_loss: 1.680 (2.253), cls_loss: 2.478 (5.536), time: 0.398 (0.525), eta: 0:06:28\n",
            "2023-08-26 20:01:12,690 SSD.trainer INFO: iter: 000270, lr: 0.00069, total_loss: 3.966 (7.647), reg_loss: 1.546 (2.226), cls_loss: 2.420 (5.421), time: 0.402 (0.520), eta: 0:06:19\n",
            "2023-08-26 20:01:16,613 SSD.trainer INFO: iter: 000280, lr: 0.00071, total_loss: 3.841 (7.511), reg_loss: 1.544 (2.202), cls_loss: 2.297 (5.309), time: 0.392 (0.516), eta: 0:06:11\n",
            "2023-08-26 20:01:20,533 SSD.trainer INFO: iter: 000290, lr: 0.00072, total_loss: 3.993 (7.390), reg_loss: 1.600 (2.181), cls_loss: 2.393 (5.209), time: 0.392 (0.512), eta: 0:06:03\n",
            "2023-08-26 20:01:25,154 SSD.trainer INFO: iter: 000300, lr: 0.00073, total_loss: 3.588 (7.263), reg_loss: 1.430 (2.156), cls_loss: 2.158 (5.107), time: 0.462 (0.510), eta: 0:05:56\n",
            "2023-08-26 20:01:29,495 SSD.trainer INFO: iter: 000310, lr: 0.00075, total_loss: 3.284 (7.135), reg_loss: 1.242 (2.127), cls_loss: 2.043 (5.008), time: 0.434 (0.508), eta: 0:05:50\n",
            "2023-08-26 20:01:33,357 SSD.trainer INFO: iter: 000320, lr: 0.00076, total_loss: 3.503 (7.021), reg_loss: 1.356 (2.103), cls_loss: 2.147 (4.919), time: 0.386 (0.504), eta: 0:05:42\n",
            "2023-08-26 20:01:37,206 SSD.trainer INFO: iter: 000330, lr: 0.00077, total_loss: 3.612 (6.918), reg_loss: 1.475 (2.084), cls_loss: 2.136 (4.834), time: 0.385 (0.500), eta: 0:05:35\n",
            "2023-08-26 20:01:41,114 SSD.trainer INFO: iter: 000340, lr: 0.00079, total_loss: 3.536 (6.818), reg_loss: 1.366 (2.063), cls_loss: 2.170 (4.756), time: 0.391 (0.497), eta: 0:05:27\n",
            "2023-08-26 20:01:47,084 SSD.trainer INFO: iter: 000350, lr: 0.00080, total_loss: 3.601 (6.727), reg_loss: 1.356 (2.042), cls_loss: 2.246 (4.684), time: 0.597 (0.500), eta: 0:05:24\n",
            "2023-08-26 20:01:50,965 SSD.trainer INFO: iter: 000360, lr: 0.00081, total_loss: 3.640 (6.641), reg_loss: 1.419 (2.025), cls_loss: 2.221 (4.616), time: 0.388 (0.497), eta: 0:05:17\n",
            "2023-08-26 20:01:54,831 SSD.trainer INFO: iter: 000370, lr: 0.00083, total_loss: 3.754 (6.563), reg_loss: 1.335 (2.006), cls_loss: 2.419 (4.556), time: 0.387 (0.494), eta: 0:05:11\n",
            "2023-08-26 20:01:58,690 SSD.trainer INFO: iter: 000380, lr: 0.00084, total_loss: 3.274 (6.476), reg_loss: 1.132 (1.983), cls_loss: 2.142 (4.493), time: 0.386 (0.491), eta: 0:05:04\n",
            "2023-08-26 20:02:02,649 SSD.trainer INFO: iter: 000390, lr: 0.00085, total_loss: 3.463 (6.399), reg_loss: 1.189 (1.963), cls_loss: 2.273 (4.436), time: 0.396 (0.488), eta: 0:04:57\n",
            "2023-08-26 20:02:06,591 SSD.trainer INFO: iter: 000400, lr: 0.00087, total_loss: 3.414 (6.324), reg_loss: 1.247 (1.945), cls_loss: 2.167 (4.379), time: 0.394 (0.486), eta: 0:04:51\n",
            "2023-08-26 20:02:10,448 SSD.trainer INFO: iter: 000410, lr: 0.00088, total_loss: 3.472 (6.255), reg_loss: 1.331 (1.930), cls_loss: 2.141 (4.325), time: 0.386 (0.484), eta: 0:04:45\n",
            "2023-08-26 20:02:14,316 SSD.trainer INFO: iter: 000420, lr: 0.00089, total_loss: 3.107 (6.180), reg_loss: 1.152 (1.912), cls_loss: 1.955 (4.268), time: 0.387 (0.481), eta: 0:04:39\n",
            "2023-08-26 20:02:19,629 SSD.trainer INFO: iter: 000430, lr: 0.00091, total_loss: 2.989 (6.106), reg_loss: 1.111 (1.893), cls_loss: 1.878 (4.213), time: 0.531 (0.482), eta: 0:04:35\n",
            "2023-08-26 20:02:24,633 SSD.trainer INFO: iter: 000440, lr: 0.00092, total_loss: 3.244 (6.041), reg_loss: 1.223 (1.878), cls_loss: 2.021 (4.163), time: 0.500 (0.483), eta: 0:04:30\n",
            "2023-08-26 20:02:28,498 SSD.trainer INFO: iter: 000450, lr: 0.00093, total_loss: 3.186 (5.977), reg_loss: 1.174 (1.862), cls_loss: 2.012 (4.115), time: 0.387 (0.481), eta: 0:04:24\n",
            "2023-08-26 20:02:32,406 SSD.trainer INFO: iter: 000460, lr: 0.00095, total_loss: 3.174 (5.916), reg_loss: 1.172 (1.847), cls_loss: 2.002 (4.069), time: 0.391 (0.479), eta: 0:04:18\n",
            "2023-08-26 20:02:36,288 SSD.trainer INFO: iter: 000470, lr: 0.00096, total_loss: 3.081 (5.856), reg_loss: 1.159 (1.832), cls_loss: 1.922 (4.023), time: 0.388 (0.477), eta: 0:04:12\n",
            "2023-08-26 20:02:40,141 SSD.trainer INFO: iter: 000480, lr: 0.00097, total_loss: 2.995 (5.796), reg_loss: 1.057 (1.816), cls_loss: 1.937 (3.980), time: 0.385 (0.475), eta: 0:04:06\n",
            "2023-08-26 20:02:43,987 SSD.trainer INFO: iter: 000490, lr: 0.00099, total_loss: 3.282 (5.745), reg_loss: 1.161 (1.803), cls_loss: 2.120 (3.942), time: 0.385 (0.473), eta: 0:04:01\n",
            "2023-08-26 20:02:47,863 SSD.trainer INFO: iter: 000500, lr: 0.00100, total_loss: 3.085 (5.692), reg_loss: 1.070 (1.788), cls_loss: 2.016 (3.903), time: 0.388 (0.471), eta: 0:03:55\n",
            "2023-08-26 20:02:51,757 SSD.trainer INFO: iter: 000510, lr: 0.00100, total_loss: 3.132 (5.642), reg_loss: 1.139 (1.776), cls_loss: 1.993 (3.866), time: 0.389 (0.470), eta: 0:03:50\n",
            "2023-08-26 20:02:55,650 SSD.trainer INFO: iter: 000520, lr: 0.00100, total_loss: 2.584 (5.583), reg_loss: 0.869 (1.758), cls_loss: 1.715 (3.825), time: 0.389 (0.468), eta: 0:03:44\n",
            "2023-08-26 20:02:59,539 SSD.trainer INFO: iter: 000530, lr: 0.00100, total_loss: 2.739 (5.529), reg_loss: 0.882 (1.742), cls_loss: 1.856 (3.787), time: 0.389 (0.467), eta: 0:03:39\n",
            "2023-08-26 20:03:03,400 SSD.trainer INFO: iter: 000540, lr: 0.00100, total_loss: 2.867 (5.480), reg_loss: 0.966 (1.727), cls_loss: 1.902 (3.753), time: 0.386 (0.465), eta: 0:03:34\n",
            "2023-08-26 20:03:07,272 SSD.trainer INFO: iter: 000550, lr: 0.00100, total_loss: 2.521 (5.426), reg_loss: 0.832 (1.711), cls_loss: 1.689 (3.715), time: 0.387 (0.464), eta: 0:03:28\n",
            "2023-08-26 20:03:11,175 SSD.trainer INFO: iter: 000560, lr: 0.00100, total_loss: 2.999 (5.383), reg_loss: 1.079 (1.700), cls_loss: 1.920 (3.683), time: 0.390 (0.463), eta: 0:03:23\n",
            "2023-08-26 20:03:15,081 SSD.trainer INFO: iter: 000570, lr: 0.00100, total_loss: 3.041 (5.342), reg_loss: 1.149 (1.690), cls_loss: 1.891 (3.652), time: 0.391 (0.461), eta: 0:03:18\n",
            "2023-08-26 20:03:19,220 SSD.trainer INFO: iter: 000580, lr: 0.00100, total_loss: 2.770 (5.297), reg_loss: 0.991 (1.678), cls_loss: 1.779 (3.619), time: 0.414 (0.460), eta: 0:03:13\n",
            "2023-08-26 20:03:23,320 SSD.trainer INFO: iter: 000590, lr: 0.00100, total_loss: 2.761 (5.254), reg_loss: 0.967 (1.666), cls_loss: 1.794 (3.588), time: 0.410 (0.460), eta: 0:03:08\n",
            "2023-08-26 20:03:27,208 SSD.trainer INFO: iter: 000600, lr: 0.00100, total_loss: 2.486 (5.208), reg_loss: 0.840 (1.652), cls_loss: 1.646 (3.556), time: 0.389 (0.458), eta: 0:03:03\n",
            "2023-08-26 20:03:32,290 SSD.trainer INFO: iter: 000610, lr: 0.00100, total_loss: 3.127 (5.174), reg_loss: 1.142 (1.644), cls_loss: 1.985 (3.530), time: 0.508 (0.459), eta: 0:02:59\n",
            "2023-08-26 20:03:36,155 SSD.trainer INFO: iter: 000620, lr: 0.00100, total_loss: 3.180 (5.142), reg_loss: 1.099 (1.635), cls_loss: 2.081 (3.507), time: 0.386 (0.458), eta: 0:02:54\n",
            "2023-08-26 20:03:40,043 SSD.trainer INFO: iter: 000630, lr: 0.00100, total_loss: 2.962 (5.107), reg_loss: 1.042 (1.626), cls_loss: 1.921 (3.482), time: 0.389 (0.457), eta: 0:02:49\n",
            "2023-08-26 20:03:43,916 SSD.trainer INFO: iter: 000640, lr: 0.00100, total_loss: 2.631 (5.069), reg_loss: 0.922 (1.615), cls_loss: 1.709 (3.454), time: 0.387 (0.456), eta: 0:02:44\n",
            "2023-08-26 20:03:47,763 SSD.trainer INFO: iter: 000650, lr: 0.00100, total_loss: 2.595 (5.030), reg_loss: 0.865 (1.603), cls_loss: 1.731 (3.427), time: 0.385 (0.455), eta: 0:02:39\n",
            "2023-08-26 20:03:51,635 SSD.trainer INFO: iter: 000660, lr: 0.00100, total_loss: 2.860 (4.998), reg_loss: 1.047 (1.595), cls_loss: 1.812 (3.403), time: 0.387 (0.454), eta: 0:02:34\n",
            "2023-08-26 20:03:55,497 SSD.trainer INFO: iter: 000670, lr: 0.00100, total_loss: 2.567 (4.961), reg_loss: 0.901 (1.584), cls_loss: 1.666 (3.377), time: 0.386 (0.453), eta: 0:02:29\n",
            "2023-08-26 20:03:59,355 SSD.trainer INFO: iter: 000680, lr: 0.00100, total_loss: 2.817 (4.930), reg_loss: 1.055 (1.576), cls_loss: 1.761 (3.353), time: 0.386 (0.452), eta: 0:02:24\n",
            "2023-08-26 20:04:03,226 SSD.trainer INFO: iter: 000690, lr: 0.00100, total_loss: 2.488 (4.894), reg_loss: 0.853 (1.566), cls_loss: 1.635 (3.328), time: 0.387 (0.451), eta: 0:02:19\n",
            "2023-08-26 20:04:07,128 SSD.trainer INFO: iter: 000700, lr: 0.00100, total_loss: 2.660 (4.862), reg_loss: 0.928 (1.557), cls_loss: 1.732 (3.306), time: 0.390 (0.450), eta: 0:02:14\n",
            "2023-08-26 20:04:11,017 SSD.trainer INFO: iter: 000710, lr: 0.00100, total_loss: 2.512 (4.829), reg_loss: 0.866 (1.547), cls_loss: 1.646 (3.282), time: 0.389 (0.449), eta: 0:02:10\n",
            "2023-08-26 20:04:14,876 SSD.trainer INFO: iter: 000720, lr: 0.00100, total_loss: 2.536 (4.797), reg_loss: 0.862 (1.538), cls_loss: 1.674 (3.260), time: 0.386 (0.448), eta: 0:02:05\n",
            "2023-08-26 20:04:18,725 SSD.trainer INFO: iter: 000730, lr: 0.00100, total_loss: 2.468 (4.766), reg_loss: 0.902 (1.529), cls_loss: 1.567 (3.237), time: 0.385 (0.447), eta: 0:02:00\n",
            "2023-08-26 20:04:22,609 SSD.trainer INFO: iter: 000740, lr: 0.00100, total_loss: 2.346 (4.733), reg_loss: 0.800 (1.519), cls_loss: 1.546 (3.214), time: 0.388 (0.447), eta: 0:01:56\n",
            "2023-08-26 20:04:26,473 SSD.trainer INFO: iter: 000750, lr: 0.00100, total_loss: 2.289 (4.700), reg_loss: 0.774 (1.509), cls_loss: 1.515 (3.191), time: 0.386 (0.446), eta: 0:01:51\n",
            "2023-08-26 20:04:30,389 SSD.trainer INFO: iter: 000760, lr: 0.00100, total_loss: 2.473 (4.671), reg_loss: 0.833 (1.500), cls_loss: 1.640 (3.171), time: 0.392 (0.445), eta: 0:01:46\n",
            "2023-08-26 20:04:34,979 SSD.trainer INFO: iter: 000770, lr: 0.00100, total_loss: 2.825 (4.647), reg_loss: 0.945 (1.493), cls_loss: 1.880 (3.154), time: 0.459 (0.445), eta: 0:01:42\n",
            "2023-08-26 20:04:38,867 SSD.trainer INFO: iter: 000780, lr: 0.00100, total_loss: 2.343 (4.617), reg_loss: 0.763 (1.484), cls_loss: 1.581 (3.134), time: 0.389 (0.444), eta: 0:01:37\n",
            "2023-08-26 20:04:42,737 SSD.trainer INFO: iter: 000790, lr: 0.00100, total_loss: 2.185 (4.587), reg_loss: 0.725 (1.474), cls_loss: 1.459 (3.113), time: 0.387 (0.444), eta: 0:01:33\n",
            "2023-08-26 20:04:46,633 SSD.trainer INFO: iter: 000800, lr: 0.00100, total_loss: 2.367 (4.559), reg_loss: 0.803 (1.466), cls_loss: 1.564 (3.093), time: 0.390 (0.443), eta: 0:01:28\n",
            "2023-08-26 20:04:50,471 SSD.trainer INFO: iter: 000810, lr: 0.00100, total_loss: 2.234 (4.530), reg_loss: 0.763 (1.457), cls_loss: 1.471 (3.073), time: 0.384 (0.442), eta: 0:01:24\n",
            "2023-08-26 20:04:54,344 SSD.trainer INFO: iter: 000820, lr: 0.00100, total_loss: 2.276 (4.503), reg_loss: 0.776 (1.449), cls_loss: 1.500 (3.054), time: 0.387 (0.442), eta: 0:01:19\n",
            "2023-08-26 20:04:58,208 SSD.trainer INFO: iter: 000830, lr: 0.00100, total_loss: 2.062 (4.473), reg_loss: 0.688 (1.440), cls_loss: 1.374 (3.034), time: 0.386 (0.441), eta: 0:01:14\n",
            "2023-08-26 20:05:02,109 SSD.trainer INFO: iter: 000840, lr: 0.00100, total_loss: 2.358 (4.448), reg_loss: 0.789 (1.432), cls_loss: 1.569 (3.016), time: 0.390 (0.440), eta: 0:01:10\n",
            "2023-08-26 20:05:05,988 SSD.trainer INFO: iter: 000850, lr: 0.00100, total_loss: 2.084 (4.420), reg_loss: 0.704 (1.423), cls_loss: 1.381 (2.997), time: 0.388 (0.440), eta: 0:01:05\n",
            "2023-08-26 20:05:09,848 SSD.trainer INFO: iter: 000860, lr: 0.00100, total_loss: 2.166 (4.394), reg_loss: 0.732 (1.415), cls_loss: 1.434 (2.979), time: 0.386 (0.439), eta: 0:01:01\n",
            "2023-08-26 20:05:13,849 SSD.trainer INFO: iter: 000870, lr: 0.00100, total_loss: 2.175 (4.369), reg_loss: 0.727 (1.407), cls_loss: 1.448 (2.961), time: 0.400 (0.439), eta: 0:00:57\n",
            "2023-08-26 20:05:17,746 SSD.trainer INFO: iter: 000880, lr: 0.00100, total_loss: 1.989 (4.342), reg_loss: 0.656 (1.399), cls_loss: 1.332 (2.943), time: 0.390 (0.438), eta: 0:00:52\n",
            "2023-08-26 20:05:22,560 SSD.trainer INFO: iter: 000890, lr: 0.00100, total_loss: 2.179 (4.317), reg_loss: 0.755 (1.391), cls_loss: 1.424 (2.926), time: 0.481 (0.439), eta: 0:00:48\n",
            "2023-08-26 20:05:26,466 SSD.trainer INFO: iter: 000900, lr: 0.00100, total_loss: 2.274 (4.295), reg_loss: 0.771 (1.385), cls_loss: 1.504 (2.910), time: 0.391 (0.438), eta: 0:00:43\n",
            "2023-08-26 20:05:30,364 SSD.trainer INFO: iter: 000910, lr: 0.00100, total_loss: 1.809 (4.267), reg_loss: 0.610 (1.376), cls_loss: 1.199 (2.891), time: 0.390 (0.438), eta: 0:00:39\n",
            "2023-08-26 20:05:34,212 SSD.trainer INFO: iter: 000920, lr: 0.00100, total_loss: 2.069 (4.243), reg_loss: 0.710 (1.369), cls_loss: 1.359 (2.875), time: 0.385 (0.437), eta: 0:00:34\n",
            "2023-08-26 20:05:38,079 SSD.trainer INFO: iter: 000930, lr: 0.00100, total_loss: 2.145 (4.221), reg_loss: 0.724 (1.362), cls_loss: 1.421 (2.859), time: 0.387 (0.436), eta: 0:00:30\n",
            "2023-08-26 20:05:41,935 SSD.trainer INFO: iter: 000940, lr: 0.00100, total_loss: 1.980 (4.197), reg_loss: 0.658 (1.354), cls_loss: 1.321 (2.843), time: 0.386 (0.436), eta: 0:00:26\n",
            "2023-08-26 20:05:45,789 SSD.trainer INFO: iter: 000950, lr: 0.00100, total_loss: 1.843 (4.172), reg_loss: 0.621 (1.347), cls_loss: 1.223 (2.825), time: 0.385 (0.435), eta: 0:00:21\n",
            "2023-08-26 20:05:49,651 SSD.trainer INFO: iter: 000960, lr: 0.00100, total_loss: 1.892 (4.148), reg_loss: 0.617 (1.339), cls_loss: 1.275 (2.809), time: 0.386 (0.435), eta: 0:00:17\n",
            "2023-08-26 20:05:53,501 SSD.trainer INFO: iter: 000970, lr: 0.00100, total_loss: 1.792 (4.124), reg_loss: 0.567 (1.331), cls_loss: 1.224 (2.793), time: 0.385 (0.434), eta: 0:00:13\n",
            "2023-08-26 20:05:57,384 SSD.trainer INFO: iter: 000980, lr: 0.00100, total_loss: 1.962 (4.102), reg_loss: 0.680 (1.324), cls_loss: 1.282 (2.778), time: 0.388 (0.434), eta: 0:00:08\n",
            "2023-08-26 20:06:01,250 SSD.trainer INFO: iter: 000990, lr: 0.00100, total_loss: 1.842 (4.079), reg_loss: 0.580 (1.317), cls_loss: 1.261 (2.762), time: 0.387 (0.433), eta: 0:00:04\n",
            "2023-08-26 20:06:05,080 SSD.trainer INFO: iter: 001000, lr: 0.00100, total_loss: 2.268 (4.061), reg_loss: 0.794 (1.312), cls_loss: 1.474 (2.749), time: 0.383 (0.433), eta: 0:00:00\n",
            "2023-08-26 20:06:05,396 SSD.trainer INFO: Saving checkpoint to outputs/vgg_ssd512_voc0712/model_final.pth\n",
            "2023-08-26 20:06:05,673 SSD.trainer INFO: Total training time: 0:07:13 (0.4330 s / it)\n",
            "2023-08-26 20:06:05,674 SSD INFO: Start evaluating...\n",
            "2023-08-26 20:06:05,699 SSD.inference INFO: Evaluating voc_2007_test dataset(196 images):\n",
            "100% 20/20 [00:07<00:00,  2.51it/s]\n",
            "2023-08-26 20:06:13,751 SSD.inference INFO: mAP: 0.9091\n",
            "aeroplane       : nan\n",
            "bicycle         : nan\n",
            "bird            : nan\n",
            "boat            : nan\n",
            "bottle          : nan\n",
            "bus             : nan\n",
            "car             : nan\n",
            "cat             : nan\n",
            "chair           : nan\n",
            "cow             : nan\n",
            "diningtable     : nan\n",
            "dog             : nan\n",
            "horse           : nan\n",
            "motorbike       : nan\n",
            "person          : nan\n",
            "pottedplant     : nan\n",
            "sheep           : nan\n",
            "sofa            : nan\n",
            "train           : nan\n",
            "tvmonitor       : nan\n",
            "moscadasfrutas  : 0.9091\n",
            "\n"
          ]
        }
      ]
    },
    {
      "cell_type": "code",
      "source": [],
      "metadata": {
        "id": "nuK3g9TNZIDg"
      },
      "execution_count": null,
      "outputs": []
    },
    {
      "cell_type": "code",
      "source": [
        "!pip show torchvision"
      ],
      "metadata": {
        "colab": {
          "base_uri": "https://localhost:8080/"
        },
        "id": "J9VAvqnk_Ytw",
        "outputId": "5a401f78-07c3-49ce-a330-8a6528e92326"
      },
      "execution_count": null,
      "outputs": [
        {
          "output_type": "stream",
          "name": "stdout",
          "text": [
            "Name: torchvision\n",
            "Version: 0.15.2+cu118\n",
            "Summary: image and video datasets and models for torch deep learning\n",
            "Home-page: https://github.com/pytorch/vision\n",
            "Author: PyTorch Core Team\n",
            "Author-email: soumith@pytorch.org\n",
            "License: BSD\n",
            "Location: /usr/local/lib/python3.10/dist-packages\n",
            "Requires: numpy, pillow, requests, torch\n",
            "Required-by: fastai\n"
          ]
        }
      ]
    },
    {
      "cell_type": "code",
      "source": [
        "!python test.py --config-file configs/vgg_ssd512_voc0712.yaml"
      ],
      "metadata": {
        "colab": {
          "base_uri": "https://localhost:8080/"
        },
        "id": "xQyHp4VgS6pj",
        "outputId": "61167de3-06b6-4557-f4a2-63c369ee0960"
      },
      "execution_count": null,
      "outputs": [
        {
          "output_type": "stream",
          "name": "stdout",
          "text": [
            "2023-08-26 19:22:28,931 SSD INFO: Using 1 GPUs\n",
            "2023-08-26 19:22:28,931 SSD INFO: Namespace(config_file='configs/vgg_ssd512_voc0712.yaml', local_rank=0, ckpt=None, output_dir='eval_results', opts=[])\n",
            "2023-08-26 19:22:28,931 SSD INFO: Loaded configuration file configs/vgg_ssd512_voc0712.yaml\n",
            "2023-08-26 19:22:28,931 SSD INFO: \n",
            "MODEL:\n",
            "  NUM_CLASSES: 22\n",
            "  BACKBONE:\n",
            "    OUT_CHANNELS: (512, 1024, 512, 256, 256, 256, 256)\n",
            "  PRIORS:\n",
            "    FEATURE_MAPS: [64, 32, 16, 8, 4, 2, 1]\n",
            "    STRIDES: [8, 16, 32, 64, 128, 256, 512]\n",
            "    MIN_SIZES: [35.84, 76.8, 153.6, 230.4, 307.2, 384.0, 460.8]\n",
            "    MAX_SIZES: [76.8, 153.6, 230.4, 307.2, 384.0, 460.8, 537.65]\n",
            "    ASPECT_RATIOS: [[2], [2, 3], [2, 3], [2, 3], [2, 3], [2], [2]]\n",
            "    BOXES_PER_LOCATION: [4, 6, 6, 6, 6, 4, 4]\n",
            "INPUT:\n",
            "  IMAGE_SIZE: 512\n",
            "DATASETS:\n",
            "  TRAIN: (\"voc_2007_trainval\", \"voc_2012_trainval\")\n",
            "  TEST: (\"voc_2007_test\", )\n",
            "SOLVER:\n",
            "  MAX_ITER: 1000\n",
            "  LR_STEPS: [80000, 100000]\n",
            "  GAMMA: 0.1\n",
            "  BATCH_SIZE: 15\n",
            "  LR: 1e-3\n",
            "\n",
            "OUTPUT_DIR: 'outputs/vgg_ssd512_voc0712'\n",
            "2023-08-26 19:22:28,931 SSD INFO: Running with config:\n",
            "DATASETS:\n",
            "  TEST: ('voc_2007_test',)\n",
            "  TRAIN: ('voc_2007_trainval', 'voc_2012_trainval')\n",
            "DATA_LOADER:\n",
            "  NUM_WORKERS: 8\n",
            "  PIN_MEMORY: True\n",
            "INPUT:\n",
            "  IMAGE_SIZE: 512\n",
            "  PIXEL_MEAN: [123, 117, 104]\n",
            "MODEL:\n",
            "  BACKBONE:\n",
            "    NAME: vgg\n",
            "    OUT_CHANNELS: (512, 1024, 512, 256, 256, 256, 256)\n",
            "    PRETRAINED: True\n",
            "  BOX_HEAD:\n",
            "    NAME: SSDBoxHead\n",
            "    PREDICTOR: SSDBoxPredictor\n",
            "  CENTER_VARIANCE: 0.1\n",
            "  DEVICE: cuda\n",
            "  META_ARCHITECTURE: SSDDetector\n",
            "  NEG_POS_RATIO: 3\n",
            "  NUM_CLASSES: 22\n",
            "  PRIORS:\n",
            "    ASPECT_RATIOS: [[2], [2, 3], [2, 3], [2, 3], [2, 3], [2], [2]]\n",
            "    BOXES_PER_LOCATION: [4, 6, 6, 6, 6, 4, 4]\n",
            "    CLIP: True\n",
            "    FEATURE_MAPS: [64, 32, 16, 8, 4, 2, 1]\n",
            "    MAX_SIZES: [76.8, 153.6, 230.4, 307.2, 384.0, 460.8, 537.65]\n",
            "    MIN_SIZES: [35.84, 76.8, 153.6, 230.4, 307.2, 384.0, 460.8]\n",
            "    STRIDES: [8, 16, 32, 64, 128, 256, 512]\n",
            "  SIZE_VARIANCE: 0.2\n",
            "  THRESHOLD: 0.5\n",
            "OUTPUT_DIR: outputs/vgg_ssd512_voc0712\n",
            "SOLVER:\n",
            "  BATCH_SIZE: 15\n",
            "  GAMMA: 0.1\n",
            "  LR: 0.001\n",
            "  LR_STEPS: [80000, 100000]\n",
            "  MAX_ITER: 1000\n",
            "  MOMENTUM: 0.9\n",
            "  WARMUP_FACTOR: 0.3333333333333333\n",
            "  WARMUP_ITERS: 500\n",
            "  WEIGHT_DECAY: 0.0005\n",
            "TEST:\n",
            "  BATCH_SIZE: 10\n",
            "  CONFIDENCE_THRESHOLD: 0.01\n",
            "  MAX_PER_CLASS: -1\n",
            "  MAX_PER_IMAGE: 100\n",
            "  NMS_THRESHOLD: 0.45\n",
            "2023-08-26 19:22:30,926 SSD.inference INFO: Loading checkpoint from outputs/vgg_ssd512_voc0712/model_final.pth\n",
            "2023-08-26 19:22:31,092 SSD.inference INFO: Evaluating voc_2007_test dataset(200 images):\n",
            "100% 20/20 [00:07<00:00,  2.82it/s]\n",
            "2023-08-26 19:22:38,281 SSD.inference INFO: mAP: 0.9108\n",
            "aeroplane       : nan\n",
            "bicycle         : nan\n",
            "bird            : nan\n",
            "boat            : nan\n",
            "bottle          : nan\n",
            "bus             : nan\n",
            "car             : nan\n",
            "cat             : nan\n",
            "chair           : nan\n",
            "cow             : nan\n",
            "diningtable     : nan\n",
            "dog             : nan\n",
            "horse           : nan\n",
            "motorbike       : nan\n",
            "person          : nan\n",
            "pottedplant     : nan\n",
            "sheep           : nan\n",
            "sofa            : nan\n",
            "train           : nan\n",
            "tvmonitor       : nan\n",
            "moscadasfrutas  : 0.9108\n",
            "\n"
          ]
        }
      ]
    },
    {
      "cell_type": "code",
      "source": [
        "!nvcc --version"
      ],
      "metadata": {
        "colab": {
          "base_uri": "https://localhost:8080/"
        },
        "id": "ru9ptCd1ArPZ",
        "outputId": "baa8e769-bfc6-4e95-9cc1-070ff1e0581e"
      },
      "execution_count": null,
      "outputs": [
        {
          "output_type": "stream",
          "name": "stdout",
          "text": [
            "nvcc: NVIDIA (R) Cuda compiler driver\n",
            "Copyright (c) 2005-2022 NVIDIA Corporation\n",
            "Built on Wed_Sep_21_10:33:58_PDT_2022\n",
            "Cuda compilation tools, release 11.8, V11.8.89\n",
            "Build cuda_11.8.r11.8/compiler.31833905_0\n"
          ]
        }
      ]
    },
    {
      "cell_type": "code",
      "source": [
        "!pip install light-the-torch\n",
        "!ltt install torch torchvision"
      ],
      "metadata": {
        "colab": {
          "base_uri": "https://localhost:8080/"
        },
        "id": "_8r_YFreEqpM",
        "outputId": "4b0ac73d-10dd-4870-adad-90872216fdc0"
      },
      "execution_count": null,
      "outputs": [
        {
          "output_type": "stream",
          "name": "stdout",
          "text": [
            "Collecting light-the-torch\n",
            "  Downloading light_the_torch-0.7.5-py3-none-any.whl (14 kB)\n",
            "Requirement already satisfied: pip<23.3,>=22.3 in /usr/local/lib/python3.10/dist-packages (from light-the-torch) (23.1.2)\n",
            "Installing collected packages: light-the-torch\n",
            "Successfully installed light-the-torch-0.7.5\n",
            "Requirement already satisfied: torch in /usr/local/lib/python3.10/dist-packages (2.0.1+cu118)\n",
            "Requirement already satisfied: torchvision in /usr/local/lib/python3.10/dist-packages (0.15.2+cu118)\n",
            "Requirement already satisfied: filelock in /usr/local/lib/python3.10/dist-packages (from torch) (3.12.2)\n",
            "Requirement already satisfied: typing-extensions in /usr/local/lib/python3.10/dist-packages (from torch) (4.7.1)\n",
            "Requirement already satisfied: sympy in /usr/local/lib/python3.10/dist-packages (from torch) (1.12)\n",
            "Requirement already satisfied: networkx in /usr/local/lib/python3.10/dist-packages (from torch) (3.1)\n",
            "Requirement already satisfied: jinja2 in /usr/local/lib/python3.10/dist-packages (from torch) (3.1.2)\n",
            "Requirement already satisfied: triton==2.0.0 in /usr/local/lib/python3.10/dist-packages (from torch) (2.0.0)\n",
            "Requirement already satisfied: cmake in /usr/local/lib/python3.10/dist-packages (from triton==2.0.0->torch) (3.27.2)\n",
            "Requirement already satisfied: lit in /usr/local/lib/python3.10/dist-packages (from triton==2.0.0->torch) (16.0.6)\n",
            "Requirement already satisfied: numpy in /usr/local/lib/python3.10/dist-packages (from torchvision) (1.23.5)\n",
            "Requirement already satisfied: requests in /usr/local/lib/python3.10/dist-packages (from torchvision) (2.31.0)\n",
            "Requirement already satisfied: pillow!=8.3.*,>=5.3.0 in /usr/local/lib/python3.10/dist-packages (from torchvision) (9.4.0)\n",
            "Requirement already satisfied: MarkupSafe>=2.0 in /usr/local/lib/python3.10/dist-packages (from jinja2->torch) (2.1.3)\n",
            "Requirement already satisfied: charset-normalizer<4,>=2 in /usr/local/lib/python3.10/dist-packages (from requests->torchvision) (3.2.0)\n",
            "Requirement already satisfied: idna<4,>=2.5 in /usr/local/lib/python3.10/dist-packages (from requests->torchvision) (3.4)\n",
            "Requirement already satisfied: urllib3<3,>=1.21.1 in /usr/local/lib/python3.10/dist-packages (from requests->torchvision) (2.0.4)\n",
            "Requirement already satisfied: certifi>=2017.4.17 in /usr/local/lib/python3.10/dist-packages (from requests->torchvision) (2023.7.22)\n",
            "Requirement already satisfied: mpmath>=0.19 in /usr/local/lib/python3.10/dist-packages (from sympy->torch) (1.3.0)\n"
          ]
        }
      ]
    }
  ]
}